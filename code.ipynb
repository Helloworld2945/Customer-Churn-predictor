{
 "cells": [
  {
   "cell_type": "code",
   "execution_count": 2,
   "id": "85d12346-e002-47b8-90e5-b2f0c805130d",
   "metadata": {},
   "outputs": [],
   "source": [
    "import pandas as pd\n",
    "from matplotlib import pyplot as plt\n",
    "import numpy as np\n",
    "%matplotlib inline"
   ]
  },
  {
   "cell_type": "code",
   "execution_count": 4,
   "id": "46e6458d-fa67-4296-9d2b-375d95bcc9be",
   "metadata": {},
   "outputs": [
    {
     "data": {
      "text/html": [
       "<div>\n",
       "<style scoped>\n",
       "    .dataframe tbody tr th:only-of-type {\n",
       "        vertical-align: middle;\n",
       "    }\n",
       "\n",
       "    .dataframe tbody tr th {\n",
       "        vertical-align: top;\n",
       "    }\n",
       "\n",
       "    .dataframe thead th {\n",
       "        text-align: right;\n",
       "    }\n",
       "</style>\n",
       "<table border=\"1\" class=\"dataframe\">\n",
       "  <thead>\n",
       "    <tr style=\"text-align: right;\">\n",
       "      <th></th>\n",
       "      <th>CustomerID</th>\n",
       "      <th>Name</th>\n",
       "      <th>Age</th>\n",
       "      <th>Gender</th>\n",
       "      <th>Location</th>\n",
       "      <th>Subscription_Length_Months</th>\n",
       "      <th>Monthly_Bill</th>\n",
       "      <th>Total_Usage_GB</th>\n",
       "      <th>Churn</th>\n",
       "    </tr>\n",
       "  </thead>\n",
       "  <tbody>\n",
       "    <tr>\n",
       "      <th>29008</th>\n",
       "      <td>29009</td>\n",
       "      <td>Customer_29009</td>\n",
       "      <td>61</td>\n",
       "      <td>Female</td>\n",
       "      <td>Chicago</td>\n",
       "      <td>8</td>\n",
       "      <td>49.09</td>\n",
       "      <td>173</td>\n",
       "      <td>1</td>\n",
       "    </tr>\n",
       "    <tr>\n",
       "      <th>14929</th>\n",
       "      <td>14930</td>\n",
       "      <td>Customer_14930</td>\n",
       "      <td>33</td>\n",
       "      <td>Female</td>\n",
       "      <td>Houston</td>\n",
       "      <td>20</td>\n",
       "      <td>41.92</td>\n",
       "      <td>99</td>\n",
       "      <td>0</td>\n",
       "    </tr>\n",
       "    <tr>\n",
       "      <th>44619</th>\n",
       "      <td>44620</td>\n",
       "      <td>Customer_44620</td>\n",
       "      <td>60</td>\n",
       "      <td>Female</td>\n",
       "      <td>Houston</td>\n",
       "      <td>14</td>\n",
       "      <td>64.89</td>\n",
       "      <td>161</td>\n",
       "      <td>1</td>\n",
       "    </tr>\n",
       "    <tr>\n",
       "      <th>15971</th>\n",
       "      <td>15972</td>\n",
       "      <td>Customer_15972</td>\n",
       "      <td>51</td>\n",
       "      <td>Male</td>\n",
       "      <td>New York</td>\n",
       "      <td>19</td>\n",
       "      <td>41.79</td>\n",
       "      <td>433</td>\n",
       "      <td>0</td>\n",
       "    </tr>\n",
       "    <tr>\n",
       "      <th>66076</th>\n",
       "      <td>66077</td>\n",
       "      <td>Customer_66077</td>\n",
       "      <td>53</td>\n",
       "      <td>Male</td>\n",
       "      <td>Miami</td>\n",
       "      <td>3</td>\n",
       "      <td>41.45</td>\n",
       "      <td>172</td>\n",
       "      <td>1</td>\n",
       "    </tr>\n",
       "  </tbody>\n",
       "</table>\n",
       "</div>"
      ],
      "text/plain": [
       "       CustomerID            Name  Age  Gender  Location  \\\n",
       "29008       29009  Customer_29009   61  Female   Chicago   \n",
       "14929       14930  Customer_14930   33  Female   Houston   \n",
       "44619       44620  Customer_44620   60  Female   Houston   \n",
       "15971       15972  Customer_15972   51    Male  New York   \n",
       "66076       66077  Customer_66077   53    Male     Miami   \n",
       "\n",
       "       Subscription_Length_Months  Monthly_Bill  Total_Usage_GB  Churn  \n",
       "29008                           8         49.09             173      1  \n",
       "14929                          20         41.92              99      0  \n",
       "44619                          14         64.89             161      1  \n",
       "15971                          19         41.79             433      0  \n",
       "66076                           3         41.45             172      1  "
      ]
     },
     "execution_count": 4,
     "metadata": {},
     "output_type": "execute_result"
    }
   ],
   "source": [
    "df = pd.read_excel(\"customer_churn_.xlsx\")\n",
    "df.sample(5)"
   ]
  },
  {
   "cell_type": "code",
   "execution_count": 5,
   "id": "3f2503a7-4db2-4309-81d9-0f2be2341e04",
   "metadata": {},
   "outputs": [
    {
     "data": {
      "text/plain": [
       "Age                             int64\n",
       "Gender                         object\n",
       "Location                       object\n",
       "Subscription_Length_Months      int64\n",
       "Monthly_Bill                  float64\n",
       "Total_Usage_GB                  int64\n",
       "Churn                           int64\n",
       "dtype: object"
      ]
     },
     "execution_count": 5,
     "metadata": {},
     "output_type": "execute_result"
    }
   ],
   "source": [
    "if 'CustomerID' in df.columns:\n",
    "    df.drop('CustomerID', axis='columns', inplace=True)\n",
    "else:\n",
    "    print(\"The 'CustomerID' column does not exist in the DataFrame.\")\n",
    "if 'Name' in df.columns:\n",
    "    df.drop('Name', axis='columns', inplace=True)\n",
    "else:\n",
    "    print(\"The 'Name' column does not exist in the DataFrame.\")\n",
    "\n",
    "df.dtypes"
   ]
  },
  {
   "cell_type": "code",
   "execution_count": 4,
   "id": "667fcaab-a25b-4725-b81b-aeddd9904d94",
   "metadata": {},
   "outputs": [
    {
     "data": {
      "text/plain": [
       "<matplotlib.legend.Legend at 0x2a83ea326b0>"
      ]
     },
     "execution_count": 4,
     "metadata": {},
     "output_type": "execute_result"
    },
    {
     "data": {
      "image/png": "[encoded data removed]",
      "text/plain": [
       "<Figure size 640x480 with 1 Axes>"
      ]
     },
     "metadata": {},
     "output_type": "display_data"
    }
   ],
   "source": [
    "Subscription_Length_Months_no = df[df.Churn==0].Subscription_Length_Months\n",
    "Subscription_Length_Months_yes = df[df.Churn==1].Subscription_Length_Months\t\n",
    "plt.xlabel(\"subscription length month\")\n",
    "plt.ylabel(\"Number of Customers\")\n",
    "plt.title(\"Customer churn prediction visualisation\")\n",
    "\n",
    "plt.hist([Subscription_Length_Months_no,Subscription_Length_Months_yes],color=['red','blue'],label=[\"churn=no\",\"churn=yes\"])\n",
    "plt.legend()"
   ]
  },
  {
   "cell_type": "code",
   "execution_count": 5,
   "id": "10583fe3-7620-45e4-95e7-b285c62534db",
   "metadata": {},
   "outputs": [
    {
     "data": {
      "text/plain": [
       "<matplotlib.legend.Legend at 0x2a8403823b0>"
      ]
     },
     "execution_count": 5,
     "metadata": {},
     "output_type": "execute_result"
    },
    {
     "data": {
      "image/png": "[encoded data removed]",
      "text/plain": [
       "<Figure size 640x480 with 1 Axes>"
      ]
     },
     "metadata": {},
     "output_type": "display_data"
    }
   ],
   "source": [
    "Subscription_Length_Months_no = df[df.Churn==0].Total_Usage_GB\n",
    "Subscription_Length_Months_yes = df[df.Churn==1].Total_Usage_GB\n",
    "plt.xlabel(\"subscription length month\")\n",
    "plt.ylabel(\"Number of Customers\")\n",
    "plt.title(\"Customer churn prediction visualisation\")\n",
    "\n",
    "plt.hist([Subscription_Length_Months_no,Subscription_Length_Months_yes],color=['red','blue'],label=[\"churn=no\",\"churn=yes\"])\n",
    "plt.legend()"
   ]
  },
  {
   "cell_type": "code",
   "execution_count": 6,
   "id": "9ad14d5d-f375-4723-8a95-434a6ec63ea4",
   "metadata": {},
   "outputs": [],
   "source": [
    "def print_unique_col_valies(df):\n",
    "    for column in df:\n",
    "        if df[column].dtypes=='object':\n",
    "            print(f'{column} : {df[column].unique()}')"
   ]
  },
  {
   "cell_type": "code",
   "execution_count": 7,
   "id": "2ac62a1c-024b-4fbb-bd1b-91eefa2ff492",
   "metadata": {},
   "outputs": [
    {
     "data": {
      "text/plain": [
       "<matplotlib.legend.Legend at 0x2a8405eca00>"
      ]
     },
     "execution_count": 7,
     "metadata": {},
     "output_type": "execute_result"
    },
    {
     "data": {
      "image/png": "[encoded data removed]",
      "text/plain": [
       "<Figure size 640x480 with 1 Axes>"
      ]
     },
     "metadata": {},
     "output_type": "display_data"
    }
   ],
   "source": [
    "Subscription_Length_Months_no = df[df.Churn==0].Location\n",
    "Subscription_Length_Months_yes = df[df.Churn==1].Location\n",
    "plt.xlabel(\"subscription length month\")\n",
    "plt.ylabel(\"Number of Customers\")\n",
    "plt.title(\"Customer churn prediction visualisation\")\n",
    "\n",
    "plt.hist([Subscription_Length_Months_no,Subscription_Length_Months_yes],color=['red','blue'],label=[\"churn=no\",\"churn=yes\"])\n",
    "plt.legend()"
   ]
  },
  {
   "cell_type": "code",
   "execution_count": 8,
   "id": "93e9b3f5-ada1-4441-8721-1c9a5a11e03c",
   "metadata": {},
   "outputs": [
    {
     "data": {
      "text/plain": [
       "array([0, 1], dtype=int64)"
      ]
     },
     "execution_count": 8,
     "metadata": {},
     "output_type": "execute_result"
    }
   ],
   "source": [
    "df['Gender'].replace({'Female':1,'Male':0},inplace=True)\n",
    "df['Gender'].unique()"
   ]
  },
  {
   "cell_type": "code",
   "execution_count": 9,
   "id": "7b0e72da-4119-4ee6-a1c9-caf57a73c6ad",
   "metadata": {},
   "outputs": [
    {
     "data": {
      "text/plain": [
       "Index(['Age', 'Gender', 'Subscription_Length_Months', 'Monthly_Bill',\n",
       "       'Total_Usage_GB', 'Churn', 'Location_Chicago', 'Location_Houston',\n",
       "       'Location_Los Angeles', 'Location_Miami', 'Location_New York'],\n",
       "      dtype='object')"
      ]
     },
     "execution_count": 9,
     "metadata": {},
     "output_type": "execute_result"
    }
   ],
   "source": [
    "df1=pd.get_dummies(data=df,columns=['Location'])\n",
    "df1.columns"
   ]
  },
  {
   "cell_type": "code",
   "execution_count": 10,
   "id": "5c3ba30f-3f15-41e6-bd3d-a31590fa3d07",
   "metadata": {},
   "outputs": [
    {
     "data": {
      "text/plain": [
       "Age                             int64\n",
       "Gender                          int64\n",
       "Subscription_Length_Months      int64\n",
       "Monthly_Bill                  float64\n",
       "Total_Usage_GB                  int64\n",
       "Churn                           int64\n",
       "Location_Chicago                uint8\n",
       "Location_Houston                uint8\n",
       "Location_Los Angeles            uint8\n",
       "Location_Miami                  uint8\n",
       "Location_New York               uint8\n",
       "dtype: object"
      ]
     },
     "execution_count": 10,
     "metadata": {},
     "output_type": "execute_result"
    }
   ],
   "source": [
    "df1.dtypes"
   ]
  },
  {
   "cell_type": "code",
   "execution_count": 11,
   "id": "dceaf99c-95c5-4d73-9601-5ef42b8f2f4f",
   "metadata": {},
   "outputs": [
    {
     "data": {
      "text/html": [
       "<div>\n",
       "<style scoped>\n",
       "    .dataframe tbody tr th:only-of-type {\n",
       "        vertical-align: middle;\n",
       "    }\n",
       "\n",
       "    .dataframe tbody tr th {\n",
       "        vertical-align: top;\n",
       "    }\n",
       "\n",
       "    .dataframe thead th {\n",
       "        text-align: right;\n",
       "    }\n",
       "</style>\n",
       "<table border=\"1\" class=\"dataframe\">\n",
       "  <thead>\n",
       "    <tr style=\"text-align: right;\">\n",
       "      <th></th>\n",
       "      <th>Age</th>\n",
       "      <th>Gender</th>\n",
       "      <th>Subscription_Length_Months</th>\n",
       "      <th>Monthly_Bill</th>\n",
       "      <th>Total_Usage_GB</th>\n",
       "      <th>Churn</th>\n",
       "      <th>Location_Chicago</th>\n",
       "      <th>Location_Houston</th>\n",
       "      <th>Location_Los Angeles</th>\n",
       "      <th>Location_Miami</th>\n",
       "      <th>Location_New York</th>\n",
       "    </tr>\n",
       "  </thead>\n",
       "  <tbody>\n",
       "    <tr>\n",
       "      <th>54986</th>\n",
       "      <td>63</td>\n",
       "      <td>1</td>\n",
       "      <td>9</td>\n",
       "      <td>62.34</td>\n",
       "      <td>180</td>\n",
       "      <td>1</td>\n",
       "      <td>1</td>\n",
       "      <td>0</td>\n",
       "      <td>0</td>\n",
       "      <td>0</td>\n",
       "      <td>0</td>\n",
       "    </tr>\n",
       "    <tr>\n",
       "      <th>85757</th>\n",
       "      <td>27</td>\n",
       "      <td>1</td>\n",
       "      <td>9</td>\n",
       "      <td>75.45</td>\n",
       "      <td>494</td>\n",
       "      <td>0</td>\n",
       "      <td>0</td>\n",
       "      <td>0</td>\n",
       "      <td>0</td>\n",
       "      <td>1</td>\n",
       "      <td>0</td>\n",
       "    </tr>\n",
       "    <tr>\n",
       "      <th>32119</th>\n",
       "      <td>31</td>\n",
       "      <td>1</td>\n",
       "      <td>8</td>\n",
       "      <td>95.26</td>\n",
       "      <td>271</td>\n",
       "      <td>1</td>\n",
       "      <td>0</td>\n",
       "      <td>0</td>\n",
       "      <td>0</td>\n",
       "      <td>0</td>\n",
       "      <td>1</td>\n",
       "    </tr>\n",
       "  </tbody>\n",
       "</table>\n",
       "</div>"
      ],
      "text/plain": [
       "       Age  Gender  Subscription_Length_Months  Monthly_Bill  Total_Usage_GB  \\\n",
       "54986   63       1                           9         62.34             180   \n",
       "85757   27       1                           9         75.45             494   \n",
       "32119   31       1                           8         95.26             271   \n",
       "\n",
       "       Churn  Location_Chicago  Location_Houston  Location_Los Angeles  \\\n",
       "54986      1                 1                 0                     0   \n",
       "85757      0                 0                 0                     0   \n",
       "32119      1                 0                 0                     0   \n",
       "\n",
       "       Location_Miami  Location_New York  \n",
       "54986               0                  0  \n",
       "85757               1                  0  \n",
       "32119               0                  1  "
      ]
     },
     "execution_count": 11,
     "metadata": {},
     "output_type": "execute_result"
    }
   ],
   "source": [
    "df1.sample(3)"
   ]
  },
  {
   "cell_type": "code",
   "execution_count": 12,
   "id": "590bf19d-db60-49ee-8a14-e2d3e1ed104c",
   "metadata": {},
   "outputs": [],
   "source": [
    "cols_to_scale=[\"Age\",\"Subscription_Length_Months\",\"Monthly_Bill\",\"Total_Usage_GB\"]\n",
    "from sklearn.preprocessing import MinMaxScaler\n",
    "scaler = MinMaxScaler()\n",
    "df1[cols_to_scale]=scaler.fit_transform(df1[cols_to_scale])\n"
   ]
  },
  {
   "cell_type": "code",
   "execution_count": 13,
   "id": "87d15133-5417-4e99-a924-cd5dce51e4ea",
   "metadata": {},
   "outputs": [
    {
     "data": {
      "text/html": [
       "<div>\n",
       "<style scoped>\n",
       "    .dataframe tbody tr th:only-of-type {\n",
       "        vertical-align: middle;\n",
       "    }\n",
       "\n",
       "    .dataframe tbody tr th {\n",
       "        vertical-align: top;\n",
       "    }\n",
       "\n",
       "    .dataframe thead th {\n",
       "        text-align: right;\n",
       "    }\n",
       "</style>\n",
       "<table border=\"1\" class=\"dataframe\">\n",
       "  <thead>\n",
       "    <tr style=\"text-align: right;\">\n",
       "      <th></th>\n",
       "      <th>Age</th>\n",
       "      <th>Gender</th>\n",
       "      <th>Subscription_Length_Months</th>\n",
       "      <th>Monthly_Bill</th>\n",
       "      <th>Total_Usage_GB</th>\n",
       "      <th>Churn</th>\n",
       "      <th>Location_Chicago</th>\n",
       "      <th>Location_Houston</th>\n",
       "      <th>Location_Los Angeles</th>\n",
       "      <th>Location_Miami</th>\n",
       "      <th>Location_New York</th>\n",
       "    </tr>\n",
       "  </thead>\n",
       "  <tbody>\n",
       "    <tr>\n",
       "      <th>20148</th>\n",
       "      <td>0.442308</td>\n",
       "      <td>1</td>\n",
       "      <td>0.869565</td>\n",
       "      <td>0.637429</td>\n",
       "      <td>0.502222</td>\n",
       "      <td>0</td>\n",
       "      <td>0</td>\n",
       "      <td>0</td>\n",
       "      <td>0</td>\n",
       "      <td>0</td>\n",
       "      <td>1</td>\n",
       "    </tr>\n",
       "    <tr>\n",
       "      <th>53250</th>\n",
       "      <td>0.807692</td>\n",
       "      <td>0</td>\n",
       "      <td>0.913043</td>\n",
       "      <td>0.721857</td>\n",
       "      <td>0.704444</td>\n",
       "      <td>1</td>\n",
       "      <td>0</td>\n",
       "      <td>0</td>\n",
       "      <td>0</td>\n",
       "      <td>1</td>\n",
       "      <td>0</td>\n",
       "    </tr>\n",
       "    <tr>\n",
       "      <th>79325</th>\n",
       "      <td>0.538462</td>\n",
       "      <td>0</td>\n",
       "      <td>0.869565</td>\n",
       "      <td>0.837571</td>\n",
       "      <td>0.560000</td>\n",
       "      <td>1</td>\n",
       "      <td>1</td>\n",
       "      <td>0</td>\n",
       "      <td>0</td>\n",
       "      <td>0</td>\n",
       "      <td>0</td>\n",
       "    </tr>\n",
       "  </tbody>\n",
       "</table>\n",
       "</div>"
      ],
      "text/plain": [
       "            Age  Gender  Subscription_Length_Months  Monthly_Bill  \\\n",
       "20148  0.442308       1                    0.869565      0.637429   \n",
       "53250  0.807692       0                    0.913043      0.721857   \n",
       "79325  0.538462       0                    0.869565      0.837571   \n",
       "\n",
       "       Total_Usage_GB  Churn  Location_Chicago  Location_Houston  \\\n",
       "20148        0.502222      0                 0                 0   \n",
       "53250        0.704444      1                 0                 0   \n",
       "79325        0.560000      1                 1                 0   \n",
       "\n",
       "       Location_Los Angeles  Location_Miami  Location_New York  \n",
       "20148                     0               0                  1  \n",
       "53250                     0               1                  0  \n",
       "79325                     0               0                  0  "
      ]
     },
     "execution_count": 13,
     "metadata": {},
     "output_type": "execute_result"
    }
   ],
   "source": [
    "df1.sample(3)"
   ]
  },
  {
   "cell_type": "code",
   "execution_count": 14,
   "id": "52583c29-3ca8-4152-a0be-2b1c7685d92d",
   "metadata": {},
   "outputs": [],
   "source": [
    "x=df1.drop('Churn',axis='columns')\n",
    "y=df1['Churn']"
   ]
  },
  {
   "cell_type": "code",
   "execution_count": 15,
   "id": "28fe6a6d-fcb5-43b1-977f-9aef03710677",
   "metadata": {},
   "outputs": [],
   "source": [
    "from sklearn.model_selection import train_test_split\n",
    "x_train,x_test,y_train,y_test = train_test_split(x,y,test_size=0.2,random_state=5)"
   ]
  },
  {
   "cell_type": "code",
   "execution_count": 16,
   "id": "7ae255e0-42be-43c4-aab5-803664a42041",
   "metadata": {},
   "outputs": [
    {
     "data": {
      "text/plain": [
       "(80000, 10)"
      ]
     },
     "execution_count": 16,
     "metadata": {},
     "output_type": "execute_result"
    }
   ],
   "source": [
    "x_train.shape"
   ]
  },
  {
   "cell_type": "code",
   "execution_count": 17,
   "id": "136a60c9-a904-46e7-86a5-86244a6806c4",
   "metadata": {},
   "outputs": [
    {
     "data": {
      "text/plain": [
       "(20000, 10)"
      ]
     },
     "execution_count": 17,
     "metadata": {},
     "output_type": "execute_result"
    }
   ],
   "source": [
    "x_test.shape"
   ]
  },
  {
   "cell_type": "code",
   "execution_count": 18,
   "id": "4886f308-ee1f-4143-b797-7d51ddc514ba",
   "metadata": {},
   "outputs": [
    {
     "data": {
      "text/html": [
       "<div>\n",
       "<style scoped>\n",
       "    .dataframe tbody tr th:only-of-type {\n",
       "        vertical-align: middle;\n",
       "    }\n",
       "\n",
       "    .dataframe tbody tr th {\n",
       "        vertical-align: top;\n",
       "    }\n",
       "\n",
       "    .dataframe thead th {\n",
       "        text-align: right;\n",
       "    }\n",
       "</style>\n",
       "<table border=\"1\" class=\"dataframe\">\n",
       "  <thead>\n",
       "    <tr style=\"text-align: right;\">\n",
       "      <th></th>\n",
       "      <th>Age</th>\n",
       "      <th>Gender</th>\n",
       "      <th>Subscription_Length_Months</th>\n",
       "      <th>Monthly_Bill</th>\n",
       "      <th>Total_Usage_GB</th>\n",
       "      <th>Location_Chicago</th>\n",
       "      <th>Location_Houston</th>\n",
       "      <th>Location_Los Angeles</th>\n",
       "      <th>Location_Miami</th>\n",
       "      <th>Location_New York</th>\n",
       "    </tr>\n",
       "  </thead>\n",
       "  <tbody>\n",
       "    <tr>\n",
       "      <th>46628</th>\n",
       "      <td>0.288462</td>\n",
       "      <td>0</td>\n",
       "      <td>0.652174</td>\n",
       "      <td>0.100571</td>\n",
       "      <td>0.264444</td>\n",
       "      <td>0</td>\n",
       "      <td>0</td>\n",
       "      <td>1</td>\n",
       "      <td>0</td>\n",
       "      <td>0</td>\n",
       "    </tr>\n",
       "    <tr>\n",
       "      <th>92846</th>\n",
       "      <td>0.442308</td>\n",
       "      <td>0</td>\n",
       "      <td>0.304348</td>\n",
       "      <td>0.797429</td>\n",
       "      <td>0.075556</td>\n",
       "      <td>0</td>\n",
       "      <td>0</td>\n",
       "      <td>0</td>\n",
       "      <td>1</td>\n",
       "      <td>0</td>\n",
       "    </tr>\n",
       "    <tr>\n",
       "      <th>30440</th>\n",
       "      <td>0.442308</td>\n",
       "      <td>1</td>\n",
       "      <td>0.565217</td>\n",
       "      <td>0.681429</td>\n",
       "      <td>0.771111</td>\n",
       "      <td>0</td>\n",
       "      <td>1</td>\n",
       "      <td>0</td>\n",
       "      <td>0</td>\n",
       "      <td>0</td>\n",
       "    </tr>\n",
       "    <tr>\n",
       "      <th>79978</th>\n",
       "      <td>0.076923</td>\n",
       "      <td>0</td>\n",
       "      <td>0.478261</td>\n",
       "      <td>0.547000</td>\n",
       "      <td>0.288889</td>\n",
       "      <td>0</td>\n",
       "      <td>0</td>\n",
       "      <td>0</td>\n",
       "      <td>1</td>\n",
       "      <td>0</td>\n",
       "    </tr>\n",
       "    <tr>\n",
       "      <th>85038</th>\n",
       "      <td>0.230769</td>\n",
       "      <td>0</td>\n",
       "      <td>0.739130</td>\n",
       "      <td>0.817857</td>\n",
       "      <td>1.000000</td>\n",
       "      <td>0</td>\n",
       "      <td>0</td>\n",
       "      <td>1</td>\n",
       "      <td>0</td>\n",
       "      <td>0</td>\n",
       "    </tr>\n",
       "    <tr>\n",
       "      <th>48616</th>\n",
       "      <td>0.730769</td>\n",
       "      <td>0</td>\n",
       "      <td>0.043478</td>\n",
       "      <td>0.319429</td>\n",
       "      <td>0.813333</td>\n",
       "      <td>0</td>\n",
       "      <td>0</td>\n",
       "      <td>0</td>\n",
       "      <td>0</td>\n",
       "      <td>1</td>\n",
       "    </tr>\n",
       "    <tr>\n",
       "      <th>77987</th>\n",
       "      <td>0.788462</td>\n",
       "      <td>1</td>\n",
       "      <td>0.173913</td>\n",
       "      <td>0.669286</td>\n",
       "      <td>0.622222</td>\n",
       "      <td>0</td>\n",
       "      <td>0</td>\n",
       "      <td>0</td>\n",
       "      <td>1</td>\n",
       "      <td>0</td>\n",
       "    </tr>\n",
       "    <tr>\n",
       "      <th>61879</th>\n",
       "      <td>0.403846</td>\n",
       "      <td>0</td>\n",
       "      <td>0.130435</td>\n",
       "      <td>0.129429</td>\n",
       "      <td>0.784444</td>\n",
       "      <td>0</td>\n",
       "      <td>0</td>\n",
       "      <td>0</td>\n",
       "      <td>0</td>\n",
       "      <td>1</td>\n",
       "    </tr>\n",
       "    <tr>\n",
       "      <th>86215</th>\n",
       "      <td>0.134615</td>\n",
       "      <td>1</td>\n",
       "      <td>0.565217</td>\n",
       "      <td>0.574000</td>\n",
       "      <td>0.688889</td>\n",
       "      <td>0</td>\n",
       "      <td>0</td>\n",
       "      <td>0</td>\n",
       "      <td>1</td>\n",
       "      <td>0</td>\n",
       "    </tr>\n",
       "    <tr>\n",
       "      <th>38620</th>\n",
       "      <td>0.884615</td>\n",
       "      <td>0</td>\n",
       "      <td>0.173913</td>\n",
       "      <td>0.543571</td>\n",
       "      <td>0.946667</td>\n",
       "      <td>0</td>\n",
       "      <td>0</td>\n",
       "      <td>0</td>\n",
       "      <td>1</td>\n",
       "      <td>0</td>\n",
       "    </tr>\n",
       "  </tbody>\n",
       "</table>\n",
       "</div>"
      ],
      "text/plain": [
       "            Age  Gender  Subscription_Length_Months  Monthly_Bill  \\\n",
       "46628  0.288462       0                    0.652174      0.100571   \n",
       "92846  0.442308       0                    0.304348      0.797429   \n",
       "30440  0.442308       1                    0.565217      0.681429   \n",
       "79978  0.076923       0                    0.478261      0.547000   \n",
       "85038  0.230769       0                    0.739130      0.817857   \n",
       "48616  0.730769       0                    0.043478      0.319429   \n",
       "77987  0.788462       1                    0.173913      0.669286   \n",
       "61879  0.403846       0                    0.130435      0.129429   \n",
       "86215  0.134615       1                    0.565217      0.574000   \n",
       "38620  0.884615       0                    0.173913      0.543571   \n",
       "\n",
       "       Total_Usage_GB  Location_Chicago  Location_Houston  \\\n",
       "46628        0.264444                 0                 0   \n",
       "92846        0.075556                 0                 0   \n",
       "30440        0.771111                 0                 1   \n",
       "79978        0.288889                 0                 0   \n",
       "85038        1.000000                 0                 0   \n",
       "48616        0.813333                 0                 0   \n",
       "77987        0.622222                 0                 0   \n",
       "61879        0.784444                 0                 0   \n",
       "86215        0.688889                 0                 0   \n",
       "38620        0.946667                 0                 0   \n",
       "\n",
       "       Location_Los Angeles  Location_Miami  Location_New York  \n",
       "46628                     1               0                  0  \n",
       "92846                     0               1                  0  \n",
       "30440                     0               0                  0  \n",
       "79978                     0               1                  0  \n",
       "85038                     1               0                  0  \n",
       "48616                     0               0                  1  \n",
       "77987                     0               1                  0  \n",
       "61879                     0               0                  1  \n",
       "86215                     0               1                  0  \n",
       "38620                     0               1                  0  "
      ]
     },
     "execution_count": 18,
     "metadata": {},
     "output_type": "execute_result"
    }
   ],
   "source": [
    "x_train[:10]\n"
   ]
  },
  {
   "cell_type": "code",
   "execution_count": 19,
   "id": "2a433ed0-5a82-46a5-a6b5-7a9e3478b416",
   "metadata": {},
   "outputs": [
    {
     "data": {
      "text/plain": [
       "10"
      ]
     },
     "execution_count": 19,
     "metadata": {},
     "output_type": "execute_result"
    }
   ],
   "source": [
    "len(x_train.columns)"
   ]
  },
  {
   "cell_type": "code",
   "execution_count": 20,
   "id": "b7704c6d-f533-447f-8edf-00f5863c2590",
   "metadata": {},
   "outputs": [
    {
     "name": "stdout",
     "output_type": "stream",
     "text": [
      "Epoch 1/100\n",
      "2500/2500 [==============================] - 4s 1ms/step - loss: 0.6941 - accuracy: 0.4997\n",
      "Epoch 2/100\n",
      "2500/2500 [==============================] - 4s 1ms/step - loss: 0.6933 - accuracy: 0.5047\n",
      "Epoch 3/100\n",
      "2500/2500 [==============================] - 4s 2ms/step - loss: 0.6932 - accuracy: 0.5031\n",
      "Epoch 4/100\n",
      "2500/2500 [==============================] - 4s 2ms/step - loss: 0.6932 - accuracy: 0.5068\n",
      "Epoch 5/100\n",
      "2500/2500 [==============================] - 4s 2ms/step - loss: 0.6932 - accuracy: 0.5069\n",
      "Epoch 6/100\n",
      "2500/2500 [==============================] - 4s 2ms/step - loss: 0.6930 - accuracy: 0.5089\n",
      "Epoch 7/100\n",
      "2500/2500 [==============================] - 4s 2ms/step - loss: 0.6931 - accuracy: 0.5051\n",
      "Epoch 8/100\n",
      "2500/2500 [==============================] - 4s 2ms/step - loss: 0.6930 - accuracy: 0.5082\n",
      "Epoch 9/100\n",
      "2500/2500 [==============================] - 4s 2ms/step - loss: 0.6931 - accuracy: 0.5062\n",
      "Epoch 10/100\n",
      "2500/2500 [==============================] - 4s 1ms/step - loss: 0.6930 - accuracy: 0.5078\n",
      "Epoch 11/100\n",
      "2500/2500 [==============================] - 4s 1ms/step - loss: 0.6930 - accuracy: 0.5076\n",
      "Epoch 12/100\n",
      "2500/2500 [==============================] - 4s 2ms/step - loss: 0.6930 - accuracy: 0.5082\n",
      "Epoch 13/100\n",
      "2500/2500 [==============================] - 4s 1ms/step - loss: 0.6929 - accuracy: 0.5089\n",
      "Epoch 14/100\n",
      "2500/2500 [==============================] - 3s 1ms/step - loss: 0.6929 - accuracy: 0.5077\n",
      "Epoch 15/100\n",
      "2500/2500 [==============================] - 3s 1ms/step - loss: 0.6929 - accuracy: 0.5091\n",
      "Epoch 16/100\n",
      "2500/2500 [==============================] - 4s 1ms/step - loss: 0.6929 - accuracy: 0.5078\n",
      "Epoch 17/100\n",
      "2500/2500 [==============================] - 4s 1ms/step - loss: 0.6929 - accuracy: 0.5107\n",
      "Epoch 18/100\n",
      "2500/2500 [==============================] - 3s 1ms/step - loss: 0.6929 - accuracy: 0.5102\n",
      "Epoch 19/100\n",
      "2500/2500 [==============================] - 3s 1ms/step - loss: 0.6929 - accuracy: 0.5112\n",
      "Epoch 20/100\n",
      "2500/2500 [==============================] - 3s 1ms/step - loss: 0.6928 - accuracy: 0.5084\n",
      "Epoch 21/100\n",
      "2500/2500 [==============================] - 3s 1ms/step - loss: 0.6928 - accuracy: 0.5120\n",
      "Epoch 22/100\n",
      "2500/2500 [==============================] - 3s 1ms/step - loss: 0.6928 - accuracy: 0.5108\n",
      "Epoch 23/100\n",
      "2500/2500 [==============================] - 3s 1ms/step - loss: 0.6928 - accuracy: 0.5125\n",
      "Epoch 24/100\n",
      "2500/2500 [==============================] - 3s 1ms/step - loss: 0.6928 - accuracy: 0.5109\n",
      "Epoch 25/100\n",
      "2500/2500 [==============================] - 3s 1ms/step - loss: 0.6928 - accuracy: 0.5110\n",
      "Epoch 26/100\n",
      "2500/2500 [==============================] - 3s 1ms/step - loss: 0.6928 - accuracy: 0.5116\n",
      "Epoch 27/100\n",
      "2500/2500 [==============================] - 3s 1ms/step - loss: 0.6928 - accuracy: 0.5106\n",
      "Epoch 28/100\n",
      "2500/2500 [==============================] - 4s 2ms/step - loss: 0.6928 - accuracy: 0.5132\n",
      "Epoch 29/100\n",
      "2500/2500 [==============================] - 4s 2ms/step - loss: 0.6928 - accuracy: 0.5103\n",
      "Epoch 30/100\n",
      "2500/2500 [==============================] - 4s 2ms/step - loss: 0.6928 - accuracy: 0.5101\n",
      "Epoch 31/100\n",
      "2500/2500 [==============================] - 4s 2ms/step - loss: 0.6928 - accuracy: 0.5110\n",
      "Epoch 32/100\n",
      "2500/2500 [==============================] - 4s 2ms/step - loss: 0.6927 - accuracy: 0.5113\n",
      "Epoch 33/100\n",
      "2500/2500 [==============================] - 4s 2ms/step - loss: 0.6927 - accuracy: 0.5111\n",
      "Epoch 34/100\n",
      "2500/2500 [==============================] - 4s 2ms/step - loss: 0.6927 - accuracy: 0.5121\n",
      "Epoch 35/100\n",
      "2500/2500 [==============================] - 4s 2ms/step - loss: 0.6927 - accuracy: 0.5129\n",
      "Epoch 36/100\n",
      "2500/2500 [==============================] - 4s 2ms/step - loss: 0.6927 - accuracy: 0.5124\n",
      "Epoch 37/100\n",
      "2500/2500 [==============================] - 4s 1ms/step - loss: 0.6927 - accuracy: 0.5106\n",
      "Epoch 38/100\n",
      "2500/2500 [==============================] - 3s 1ms/step - loss: 0.6927 - accuracy: 0.5124\n",
      "Epoch 39/100\n",
      "2500/2500 [==============================] - 3s 1ms/step - loss: 0.6927 - accuracy: 0.5117\n",
      "Epoch 40/100\n",
      "2500/2500 [==============================] - 3s 1ms/step - loss: 0.6927 - accuracy: 0.5140\n",
      "Epoch 41/100\n",
      "2500/2500 [==============================] - 3s 1ms/step - loss: 0.6926 - accuracy: 0.5116\n",
      "Epoch 42/100\n",
      "2500/2500 [==============================] - 3s 1ms/step - loss: 0.6926 - accuracy: 0.5133\n",
      "Epoch 43/100\n",
      "2500/2500 [==============================] - 3s 1ms/step - loss: 0.6926 - accuracy: 0.5110\n",
      "Epoch 44/100\n",
      "2500/2500 [==============================] - 4s 1ms/step - loss: 0.6926 - accuracy: 0.5127\n",
      "Epoch 45/100\n",
      "2500/2500 [==============================] - 3s 1ms/step - loss: 0.6926 - accuracy: 0.5121\n",
      "Epoch 46/100\n",
      "2500/2500 [==============================] - 3s 1ms/step - loss: 0.6926 - accuracy: 0.5123\n",
      "Epoch 47/100\n",
      "2500/2500 [==============================] - 3s 1ms/step - loss: 0.6926 - accuracy: 0.5127\n",
      "Epoch 48/100\n",
      "2500/2500 [==============================] - 3s 1ms/step - loss: 0.6926 - accuracy: 0.5143\n",
      "Epoch 49/100\n",
      "2500/2500 [==============================] - 3s 1ms/step - loss: 0.6926 - accuracy: 0.5142\n",
      "Epoch 50/100\n",
      "2500/2500 [==============================] - 3s 1ms/step - loss: 0.6926 - accuracy: 0.5127\n",
      "Epoch 51/100\n",
      "2500/2500 [==============================] - 4s 2ms/step - loss: 0.6926 - accuracy: 0.5139\n",
      "Epoch 52/100\n",
      "2500/2500 [==============================] - 4s 2ms/step - loss: 0.6926 - accuracy: 0.5122\n",
      "Epoch 53/100\n",
      "2500/2500 [==============================] - 5s 2ms/step - loss: 0.6926 - accuracy: 0.5122\n",
      "Epoch 54/100\n",
      "2500/2500 [==============================] - 3s 1ms/step - loss: 0.6925 - accuracy: 0.5126\n",
      "Epoch 55/100\n",
      "2500/2500 [==============================] - 3s 1ms/step - loss: 0.6926 - accuracy: 0.5128\n",
      "Epoch 56/100\n",
      "2500/2500 [==============================] - 3s 1ms/step - loss: 0.6925 - accuracy: 0.5123\n",
      "Epoch 57/100\n",
      "2500/2500 [==============================] - 4s 2ms/step - loss: 0.6926 - accuracy: 0.5127\n",
      "Epoch 58/100\n",
      "2500/2500 [==============================] - 5s 2ms/step - loss: 0.6926 - accuracy: 0.5131\n",
      "Epoch 59/100\n",
      "2500/2500 [==============================] - 5s 2ms/step - loss: 0.6925 - accuracy: 0.5129\n",
      "Epoch 60/100\n",
      "2500/2500 [==============================] - 5s 2ms/step - loss: 0.6925 - accuracy: 0.5141\n",
      "Epoch 61/100\n",
      "2500/2500 [==============================] - 4s 2ms/step - loss: 0.6926 - accuracy: 0.5144\n",
      "Epoch 62/100\n",
      "2500/2500 [==============================] - 5s 2ms/step - loss: 0.6926 - accuracy: 0.5144\n",
      "Epoch 63/100\n",
      "2500/2500 [==============================] - 5s 2ms/step - loss: 0.6926 - accuracy: 0.5127\n",
      "Epoch 64/100\n",
      "2500/2500 [==============================] - 4s 2ms/step - loss: 0.6925 - accuracy: 0.5144\n",
      "Epoch 65/100\n",
      "2500/2500 [==============================] - 4s 2ms/step - loss: 0.6925 - accuracy: 0.5146\n",
      "Epoch 66/100\n",
      "2500/2500 [==============================] - 5s 2ms/step - loss: 0.6925 - accuracy: 0.5141\n",
      "Epoch 67/100\n",
      "2500/2500 [==============================] - 4s 2ms/step - loss: 0.6925 - accuracy: 0.5144\n",
      "Epoch 68/100\n",
      "2500/2500 [==============================] - 4s 2ms/step - loss: 0.6925 - accuracy: 0.5143\n",
      "Epoch 69/100\n",
      "2500/2500 [==============================] - 4s 2ms/step - loss: 0.6925 - accuracy: 0.5142\n",
      "Epoch 70/100\n",
      "2500/2500 [==============================] - 4s 2ms/step - loss: 0.6925 - accuracy: 0.5149\n",
      "Epoch 71/100\n",
      "2500/2500 [==============================] - 5s 2ms/step - loss: 0.6925 - accuracy: 0.5153\n",
      "Epoch 72/100\n",
      "2500/2500 [==============================] - 5s 2ms/step - loss: 0.6925 - accuracy: 0.5138\n",
      "Epoch 73/100\n",
      "2500/2500 [==============================] - 5s 2ms/step - loss: 0.6925 - accuracy: 0.5142\n",
      "Epoch 74/100\n",
      "2500/2500 [==============================] - 4s 2ms/step - loss: 0.6925 - accuracy: 0.5146\n",
      "Epoch 75/100\n",
      "2500/2500 [==============================] - 4s 2ms/step - loss: 0.6925 - accuracy: 0.5137\n",
      "Epoch 76/100\n",
      "2500/2500 [==============================] - 3s 1ms/step - loss: 0.6925 - accuracy: 0.5140\n",
      "Epoch 77/100\n",
      "2500/2500 [==============================] - 3s 1ms/step - loss: 0.6925 - accuracy: 0.5138\n",
      "Epoch 78/100\n",
      "2500/2500 [==============================] - 5s 2ms/step - loss: 0.6925 - accuracy: 0.5146\n",
      "Epoch 79/100\n",
      "2500/2500 [==============================] - 5s 2ms/step - loss: 0.6925 - accuracy: 0.5148\n",
      "Epoch 80/100\n",
      "2500/2500 [==============================] - 5s 2ms/step - loss: 0.6925 - accuracy: 0.5130\n",
      "Epoch 81/100\n",
      "2500/2500 [==============================] - 4s 2ms/step - loss: 0.6924 - accuracy: 0.5130\n",
      "Epoch 82/100\n",
      "2500/2500 [==============================] - 4s 2ms/step - loss: 0.6925 - accuracy: 0.5135\n",
      "Epoch 83/100\n",
      "2500/2500 [==============================] - 4s 1ms/step - loss: 0.6924 - accuracy: 0.5138\n",
      "Epoch 84/100\n",
      "2500/2500 [==============================] - 4s 2ms/step - loss: 0.6925 - accuracy: 0.5155\n",
      "Epoch 85/100\n",
      "2500/2500 [==============================] - 4s 2ms/step - loss: 0.6924 - accuracy: 0.5138\n",
      "Epoch 86/100\n",
      "2500/2500 [==============================] - 4s 2ms/step - loss: 0.6925 - accuracy: 0.5153\n",
      "Epoch 87/100\n",
      "2500/2500 [==============================] - 4s 2ms/step - loss: 0.6924 - accuracy: 0.5137\n",
      "Epoch 88/100\n",
      "2500/2500 [==============================] - 4s 2ms/step - loss: 0.6924 - accuracy: 0.5160\n",
      "Epoch 89/100\n",
      "2500/2500 [==============================] - 4s 1ms/step - loss: 0.6925 - accuracy: 0.5137\n",
      "Epoch 90/100\n",
      "2500/2500 [==============================] - 4s 1ms/step - loss: 0.6924 - accuracy: 0.5148\n",
      "Epoch 91/100\n",
      "2500/2500 [==============================] - 3s 1ms/step - loss: 0.6924 - accuracy: 0.5132\n",
      "Epoch 92/100\n",
      "2500/2500 [==============================] - 4s 2ms/step - loss: 0.6924 - accuracy: 0.5150\n",
      "Epoch 93/100\n",
      "2500/2500 [==============================] - 3s 1ms/step - loss: 0.6925 - accuracy: 0.5134\n",
      "Epoch 94/100\n",
      "2500/2500 [==============================] - 4s 1ms/step - loss: 0.6924 - accuracy: 0.5152\n",
      "Epoch 95/100\n",
      "2500/2500 [==============================] - 3s 1ms/step - loss: 0.6924 - accuracy: 0.5151\n",
      "Epoch 96/100\n",
      "2500/2500 [==============================] - 4s 1ms/step - loss: 0.6924 - accuracy: 0.5138\n",
      "Epoch 97/100\n",
      "2500/2500 [==============================] - 4s 1ms/step - loss: 0.6924 - accuracy: 0.5139\n",
      "Epoch 98/100\n",
      "2500/2500 [==============================] - 4s 1ms/step - loss: 0.6924 - accuracy: 0.5139\n",
      "Epoch 99/100\n",
      "2500/2500 [==============================] - 3s 1ms/step - loss: 0.6924 - accuracy: 0.5165\n",
      "Epoch 100/100\n",
      "2500/2500 [==============================] - 3s 1ms/step - loss: 0.6924 - accuracy: 0.5139\n"
     ]
    },
    {
     "data": {
      "text/plain": [
       "<keras.src.callbacks.History at 0x2a85af22920>"
      ]
     },
     "execution_count": 20,
     "metadata": {},
     "output_type": "execute_result"
    }
   ],
   "source": [
    "import tensorflow as tf\n",
    "from tensorflow import keras\n",
    "\n",
    "\n",
    "model = keras.Sequential([\n",
    "    keras.layers.Dense(20,input_shape=(10,),activation=\"relu\"),\n",
    "    keras.layers.Dense(1,activation=\"sigmoid\"),\n",
    "])\n",
    "model.compile(optimizer='adam',\n",
    "              loss='binary_crossentropy',\n",
    "              metrics=['accuracy'])\n",
    "model.fit(x_train,y_train, epochs=100)"
   ]
  },
  {
   "cell_type": "code",
   "execution_count": 21,
   "id": "b4db5aee-87b5-4d1e-b724-ddbf75ba2d78",
   "metadata": {},
   "outputs": [
    {
     "name": "stdout",
     "output_type": "stream",
     "text": [
      "625/625 [==============================] - 1s 1ms/step - loss: 0.6939 - accuracy: 0.4970\n"
     ]
    },
    {
     "data": {
      "text/plain": [
       "[0.6939324140548706, 0.4969500005245209]"
      ]
     },
     "execution_count": 21,
     "metadata": {},
     "output_type": "execute_result"
    }
   ],
   "source": [
    "model.evaluate(x_test,y_test)"
   ]
  },
  {
   "cell_type": "code",
   "execution_count": 22,
   "id": "87683259-232e-4f4a-a896-58b5734d1c15",
   "metadata": {},
   "outputs": [
    {
     "name": "stdout",
     "output_type": "stream",
     "text": [
      "625/625 [==============================] - 1s 977us/step\n"
     ]
    },
    {
     "data": {
      "text/plain": [
       "array([[0.48379686],\n",
       "       [0.50609297],\n",
       "       [0.48056093],\n",
       "       [0.491394  ],\n",
       "       [0.47241023]], dtype=float32)"
      ]
     },
     "execution_count": 22,
     "metadata": {},
     "output_type": "execute_result"
    }
   ],
   "source": [
    "yp = model.predict(x_test)\n",
    "yp[:5]"
   ]
  },
  {
   "cell_type": "code",
   "execution_count": 23,
   "id": "f7734fca-15c5-48ac-8c03-3dfc6ab5ee3f",
   "metadata": {},
   "outputs": [],
   "source": [
    "y_pred=[]\n",
    "for element in yp:\n",
    "    if element >0.5:\n",
    "        y_pred.append(1)\n",
    "    else:\n",
    "        y_pred.append(0)"
   ]
  },
  {
   "cell_type": "code",
   "execution_count": 24,
   "id": "87966a64-5d5a-4bc4-8b76-5bdf38439476",
   "metadata": {},
   "outputs": [
    {
     "data": {
      "text/plain": [
       "[0, 1, 0, 0, 0, 0, 0, 0, 0, 1, 1, 1, 0, 0, 0, 0, 0, 0, 0, 1]"
      ]
     },
     "execution_count": 24,
     "metadata": {},
     "output_type": "execute_result"
    }
   ],
   "source": [
    "y_pred[:20]"
   ]
  },
  {
   "cell_type": "code",
   "execution_count": 25,
   "id": "9c840178-d6b2-40be-a27b-ecbd5710143a",
   "metadata": {},
   "outputs": [
    {
     "name": "stdout",
     "output_type": "stream",
     "text": [
      "              precision    recall  f1-score   support\n",
      "\n",
      "           0       0.50      0.61      0.55      9950\n",
      "           1       0.50      0.39      0.43     10050\n",
      "\n",
      "    accuracy                           0.50     20000\n",
      "   macro avg       0.50      0.50      0.49     20000\n",
      "weighted avg       0.50      0.50      0.49     20000\n",
      "\n"
     ]
    }
   ],
   "source": [
    "from sklearn.metrics import confusion_matrix , classification_report\n",
    "print(classification_report(y_test,y_pred))"
   ]
  },
  {
   "cell_type": "code",
   "execution_count": 26,
   "id": "e9492ccf-0d7f-407d-b66e-0abedf60fe34",
   "metadata": {},
   "outputs": [
    {
     "data": {
      "text/plain": [
       "Text(95.72222222222221, 0.5, 'Truth')"
      ]
     },
     "execution_count": 26,
     "metadata": {},
     "output_type": "execute_result"
    },
    {
     "data": {
      "image/png": "[encoded data removed]",
      "text/plain": [
       "<Figure size 1000x700 with 2 Axes>"
      ]
     },
     "metadata": {},
     "output_type": "display_data"
    }
   ],
   "source": [
    "import seaborn as sn\n",
    "cm = tf.math.confusion_matrix(labels=y_test,predictions=y_pred)\n",
    "\n",
    "plt.figure(figsize = (10,7))\n",
    "sn.heatmap(cm, annot=True, fmt='d')\n",
    "plt.xlabel('Predicted')\n",
    "plt.ylabel('Truth')"
   ]
  },
  {
   "cell_type": "code",
   "execution_count": 27,
   "id": "962dbf44-fa81-48de-9395-e5693c8dc612",
   "metadata": {},
   "outputs": [
    {
     "data": {
      "text/plain": [
       "0.78"
      ]
     },
     "execution_count": 27,
     "metadata": {},
     "output_type": "execute_result"
    }
   ],
   "source": [
    "round((862+229)/(862+229+137+179),2)"
   ]
  },
  {
   "cell_type": "code",
   "execution_count": 28,
   "id": "2dc624b1-86b4-4a1e-b340-a252f9b72275",
   "metadata": {},
   "outputs": [
    {
     "data": {
      "text/plain": [
       "0.83"
      ]
     },
     "execution_count": 28,
     "metadata": {},
     "output_type": "execute_result"
    }
   ],
   "source": [
    "round(862/(862+179),2)"
   ]
  },
  {
   "cell_type": "code",
   "execution_count": 29,
   "id": "3091a7c8-a906-497c-9b32-0311fae669de",
   "metadata": {},
   "outputs": [
    {
     "data": {
      "text/plain": [
       "0.63"
      ]
     },
     "execution_count": 29,
     "metadata": {},
     "output_type": "execute_result"
    }
   ],
   "source": [
    "round(229/(229+137),2)"
   ]
  }
 ],
 "metadata": {
  "kernelspec": {
   "display_name": "Python 3 (ipykernel)",
   "language": "python",
   "name": "python3"
  },
  "language_info": {
   "codemirror_mode": {
    "name": "ipython",
    "version": 3
   },
   "file_extension": ".py",
   "mimetype": "text/x-python",
   "name": "python",
   "nbconvert_exporter": "python",
   "pygments_lexer": "ipython3",
   "version": "3.10.2"
  }
 },
 "nbformat": 4,
 "nbformat_minor": 5
}
